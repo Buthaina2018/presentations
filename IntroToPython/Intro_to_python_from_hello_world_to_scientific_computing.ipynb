{
 "cells": [
  {
   "cell_type": "markdown",
   "metadata": {
    "run_control": {
     "frozen": false,
     "read_only": false
    },
    "slideshow": {
     "slide_type": "-"
    }
   },
   "source": [
    "# Intro to Python: From 'Hello World' to Basic Scientific Computing\n",
    "\n",
    "Z. W. Miller - 6.16.17"
   ]
  },
  {
   "cell_type": "markdown",
   "metadata": {
    "run_control": {
     "frozen": false,
     "read_only": false
    }
   },
   "source": [
    "## A few general notes:"
   ]
  },
  {
   "cell_type": "markdown",
   "metadata": {
    "run_control": {
     "frozen": false,
     "read_only": false
    }
   },
   "source": [
    "Coding is a skill just like playing an instrument, knitting, or wood-carving. It takes a lot of practice to become proficient, especially to the point where you're making things that are pretty (continuing the comparison: the time needed to not just be flailing wildly at guitar strings, but instead making chords that fit together can literally be weeks or months just to reach basic proficiency). However, the key thing to remember is... all practice is good practice, and it's just software. You literally cannot harm your computer by writing bad python code that throws an error. You might accidentally shut it down by generating an infinite loop... but 'oh well, try again after it reboots.' **Be tenacious, practice a lot, and make cool things.** "
   ]
  },
  {
   "cell_type": "markdown",
   "metadata": {
    "run_control": {
     "frozen": false,
     "read_only": false
    }
   },
   "source": [
    "## What is Python?"
   ]
  },
  {
   "cell_type": "markdown",
   "metadata": {
    "run_control": {
     "frozen": false,
     "read_only": false
    },
    "slideshow": {
     "slide_type": "-"
    }
   },
   "source": [
    "Let's get the tech-mumbo jumbo out of the way first. What is Python?"
   ]
  },
  {
   "cell_type": "markdown",
   "metadata": {
    "run_control": {
     "frozen": false,
     "read_only": false
    },
    "slideshow": {
     "slide_type": "-"
    }
   },
   "source": [
    "> Python is a widely used high-level programming language for general-purpose programming, created by Guido van Rossum and \n",
    "> first released in 1991. An interpreted language, Python has a design philosophy which emphasizes code readability \n",
    "> (notably using whitespace indentation to delimit code blocks rather than curly brackets or keywords), and a syntax which \n",
    "> allows programmers to express concepts in fewer lines of code than possible in languages such as C++ or Java. The language\n",
    "> provides constructs intended to enable writing clear programs on both a small and large scale.\n",
    "> \n",
    "> Python features a dynamic type system and automatic memory management and supports multiple programming paradigms, \n",
    "> including object-oriented, imperative, functional programming, and procedural styles. It has a large and comprehensive \n",
    "> standard library.\n",
    "> \n",
    "> -Wikipedia [https://en.wikipedia.org/wiki/Python_(programming_language)]"
   ]
  },
  {
   "cell_type": "markdown",
   "metadata": {
    "run_control": {
     "frozen": false,
     "read_only": false
    },
    "slideshow": {
     "slide_type": "-"
    }
   },
   "source": [
    "What does this actually mean? Let's paraphrase it:\n",
    "\n",
    "> Python is used by a lot of people as a go-to coding language. It's interpreted, which means we don't have to muck around\n",
    "> with compilers like we do in other languages. Python's design emphasizes the ability to look at a code and understand it\n",
    "> without need for elaborate directions - and the idea is that we should always do things the simplest way. \n",
    "> \n",
    "> Python also has 'dynamic memory systems' which means that we don't have to keep track of all the memory usage like we do\n",
    "> in C-based languages. Python also allows for 'object-oriented programming' which is a more advanced topic we won't get to\n",
    "> today. Basically, Python is really damn convenient, because it's designed to be easy for the user to use.\n",
    "\n",
    "Let's get started with the most basic programming example: 'Hello world.'"
   ]
  },
  {
   "cell_type": "markdown",
   "metadata": {
    "run_control": {
     "frozen": false,
     "read_only": false
    }
   },
   "source": [
    "## Hello World - the starting point of champions"
   ]
  },
  {
   "cell_type": "code",
   "execution_count": 2,
   "metadata": {
    "collapsed": false,
    "run_control": {
     "frozen": false,
     "read_only": false
    }
   },
   "outputs": [
    {
     "name": "stdout",
     "output_type": "stream",
     "text": [
      "Hello World\n"
     ]
    }
   ],
   "source": [
    "print('Hello World')\n",
    "# To run a cell in a Jupyter Notebook you can either click the \"Run button\" or press \"Shift+Enter\""
   ]
  },
  {
   "cell_type": "markdown",
   "metadata": {
    "run_control": {
     "frozen": false,
     "read_only": false
    }
   },
   "source": [
    "Woo! A thing happened. We told Python: \"Hey, I want you to print out the phrase 'Hello World'\" and it did. Now let's try it another way."
   ]
  },
  {
   "cell_type": "code",
   "execution_count": 5,
   "metadata": {
    "collapsed": false,
    "run_control": {
     "frozen": false,
     "read_only": false
    }
   },
   "outputs": [
    {
     "name": "stdout",
     "output_type": "stream",
     "text": [
      "Hello World\n"
     ]
    }
   ],
   "source": [
    "word_to_print = \"Hello World\" # Here we're creating a variable with a string in it!\n",
    "print(word_to_print)"
   ]
  },
  {
   "cell_type": "markdown",
   "metadata": {
    "run_control": {
     "frozen": false,
     "read_only": false
    }
   },
   "source": [
    "Now we've introduced the idea of variables. In Python, we don't have to tell the code in advance what our variable 'type' will be. A type helps tell Python what our variable is storing for us. So for instance, let's look at the type for `word_to_print` and the type of a number. "
   ]
  },
  {
   "cell_type": "code",
   "execution_count": 7,
   "metadata": {
    "collapsed": false,
    "run_control": {
     "frozen": false,
     "read_only": false
    }
   },
   "outputs": [
    {
     "name": "stdout",
     "output_type": "stream",
     "text": [
      "<class 'str'>\n",
      "<class 'int'>\n",
      "<class 'str'>\n",
      "<class 'float'>\n"
     ]
    }
   ],
   "source": [
    "print(type(word_to_print))\n",
    "print(type(1))\n",
    "print(type(\"bob\"))\n",
    "print(type(2.5))"
   ]
  },
  {
   "cell_type": "markdown",
   "metadata": {
    "run_control": {
     "frozen": false,
     "read_only": false
    }
   },
   "source": [
    "Our print statement can also handle multiple things at once, let's use that to talk about types some more."
   ]
  },
  {
   "cell_type": "code",
   "execution_count": 9,
   "metadata": {
    "collapsed": false,
    "run_control": {
     "frozen": false,
     "read_only": false
    }
   },
   "outputs": [
    {
     "name": "stdout",
     "output_type": "stream",
     "text": [
      "This is a string: <class 'str'>\n",
      "This is an integer: <class 'int'>\n",
      "This is a string too: <class 'str'>\n",
      "This is a float: <class 'float'>\n"
     ]
    }
   ],
   "source": [
    "print(\"This is a string:\",type(word_to_print))\n",
    "print(\"This is an integer:\",type(1))\n",
    "print(\"This is a string too:\",type(\"bob\"))\n",
    "print(\"This is a float:\",type(2.5))"
   ]
  },
  {
   "cell_type": "markdown",
   "metadata": {
    "run_control": {
     "frozen": false,
     "read_only": false
    }
   },
   "source": [
    "What if we have multiple things we want to store all at once? Python can handle that with an object called a `list.` Lists are really excellent because of a few things...\n",
    "\n",
    "1. They can hold correlated things.\n",
    "2. They're editable... meaning we can add and subtract things as necessary.\n",
    "3. They allow for indexing (don't worry, we'll explain this in a minute)\n",
    "4. They can work with `for` loops (this one too)\n",
    "\n",
    "Let's start by looking at how lists work. They have square-brackets as their identifier."
   ]
  },
  {
   "cell_type": "code",
   "execution_count": 18,
   "metadata": {
    "collapsed": false,
    "run_control": {
     "frozen": false,
     "read_only": false
    }
   },
   "outputs": [
    {
     "name": "stdout",
     "output_type": "stream",
     "text": [
      "['steve', 'bob', 'emily']\n",
      "['steve', 'bob', 'emily', 'DOUG WAS HERE']\n",
      "['steve', 'bob', 'emily']\n",
      "['steve', 'bob']\n"
     ]
    }
   ],
   "source": [
    "our_list = [\"steve\",\"bob\",\"emily\"]\n",
    "print(our_list)\n",
    "\n",
    "our_list.append(\"DOUG WAS HERE\")\n",
    "print(our_list)\n",
    "\n",
    "our_list.pop()\n",
    "print(our_list)\n",
    "\n",
    "our_list.pop()\n",
    "print(our_list)"
   ]
  },
  {
   "cell_type": "markdown",
   "metadata": {
    "run_control": {
     "frozen": false,
     "read_only": false
    }
   },
   "source": [
    "**Exercise 1:** Let's do 'hello world' but with lists. (solutions to all exercises at the bottom)\n",
    "\n",
    "> Create a variable called `hello_world_list` that has two elements: \n",
    "> the strings 'hello' and 'world'. Then print out that variable."
   ]
  },
  {
   "cell_type": "code",
   "execution_count": null,
   "metadata": {
    "collapsed": true,
    "run_control": {
     "frozen": false,
     "read_only": false
    }
   },
   "outputs": [],
   "source": []
  },
  {
   "cell_type": "markdown",
   "metadata": {
    "run_control": {
     "frozen": false,
     "read_only": false
    }
   },
   "source": [
    "## Numerical Lists, For Loops, Indexing and MORE"
   ]
  },
  {
   "cell_type": "markdown",
   "metadata": {
    "run_control": {
     "frozen": false,
     "read_only": false
    }
   },
   "source": [
    "Now let's talk about indexing. Lists in Python know two things about each element: \n",
    "\n",
    "1. The element is value X (for instance the first element in our hello_world_list below has a value of 'hello')\n",
    "2. The element is at position #x\n",
    "\n",
    "For instance, the 0th position of hello_world_list has the word 'hello'. Let's take a look at this."
   ]
  },
  {
   "cell_type": "code",
   "execution_count": 24,
   "metadata": {
    "collapsed": false,
    "run_control": {
     "frozen": false,
     "read_only": false
    }
   },
   "outputs": [
    {
     "name": "stdout",
     "output_type": "stream",
     "text": [
      "hello\n",
      "world\n"
     ]
    }
   ],
   "source": [
    "hello_world_list = ['hello','world']\n",
    "print(hello_world_list[0])\n",
    "print(hello_world_list[1])"
   ]
  },
  {
   "cell_type": "markdown",
   "metadata": {
    "run_control": {
     "frozen": false,
     "read_only": false
    }
   },
   "source": [
    "The square brackets directly after the list tell Python, \"Hey, I only want you to get the element at that position number in the list.\" Also, let's note something special: **the numbers start at 0!** All Python lists (and sets and tuples for that matter) start at position 0. This is sometimes called \"zero indexing.\"\n",
    "\n",
    "So, can lists just hold strings? Nope. Let's check out some other lists."
   ]
  },
  {
   "cell_type": "code",
   "execution_count": 25,
   "metadata": {
    "collapsed": false,
    "run_control": {
     "frozen": false,
     "read_only": false
    }
   },
   "outputs": [
    {
     "name": "stdout",
     "output_type": "stream",
     "text": [
      "This is a list of integers:  [1, 2, 3]\n",
      "This is a list of floats:  [0.5, 0.2, 3]\n",
      "This is a mixed list:  ['bob', 1, 0.75]\n"
     ]
    }
   ],
   "source": [
    "list_of_ints = [1,2,3]\n",
    "print(\"This is a list of integers: \", list_of_ints)\n",
    "\n",
    "list_of_floats = [0.5, 0.2, 3]\n",
    "print(\"This is a list of floats: \", list_of_floats)\n",
    "\n",
    "mixed_list = ['bob', 1, 0.75]\n",
    "print(\"This is a mixed list: \", mixed_list)"
   ]
  },
  {
   "cell_type": "code",
   "execution_count": 27,
   "metadata": {
    "collapsed": false,
    "run_control": {
     "frozen": false,
     "read_only": false
    }
   },
   "outputs": [
    {
     "name": "stdout",
     "output_type": "stream",
     "text": [
      "<class 'str'>\n",
      "<class 'int'>\n",
      "<class 'float'>\n"
     ]
    }
   ],
   "source": [
    "print(type(mixed_list[0]))\n",
    "print(type(mixed_list[1]))\n",
    "print(type(mixed_list[2]))"
   ]
  },
  {
   "cell_type": "markdown",
   "metadata": {
    "run_control": {
     "frozen": false,
     "read_only": false
    }
   },
   "source": [
    "**Exercise 2: **\n",
    "> Okay, so let's create a list with the values 1, 2, 3, 4, and 5 in it. Then let's use indexing to calculate the sum."
   ]
  },
  {
   "cell_type": "code",
   "execution_count": null,
   "metadata": {
    "collapsed": true,
    "run_control": {
     "frozen": false,
     "read_only": false
    }
   },
   "outputs": [],
   "source": []
  },
  {
   "cell_type": "markdown",
   "metadata": {
    "run_control": {
     "frozen": false,
     "read_only": false
    }
   },
   "source": [
    "Alright! We can do some manipulations of our data with indexing. But, there's gotta be a better way of using all the elements in a list than manually typing each index in, right? There is, they're called `for` loops. Let's take a look at an example:"
   ]
  },
  {
   "cell_type": "code",
   "execution_count": 29,
   "metadata": {
    "collapsed": false,
    "run_control": {
     "frozen": false,
     "read_only": false
    }
   },
   "outputs": [
    {
     "name": "stdout",
     "output_type": "stream",
     "text": [
      "1\n",
      "2\n",
      "3\n",
      "4\n",
      "5\n"
     ]
    }
   ],
   "source": [
    "values = [1,2,3,4,5]\n",
    "for element in values:\n",
    "    print(element)"
   ]
  },
  {
   "cell_type": "markdown",
   "metadata": {
    "run_control": {
     "frozen": false,
     "read_only": false
    }
   },
   "source": [
    "We told python, \"I want you to grab each element in the `values` list and then do something with it one at a time.\" There's nothing special about it being numbers, we could do that with a list of strings as well. All that Python knows is, \"This user said 'get everything in this list and give it back to me one at a time' and I'm going to do that now.\"\n",
    "\n",
    "We've also just seen our first Python indent! Did you notice that the `print()` statement is one tab in from the left side? That's how Python knows what belongs to the `for` loop and what doesn't. For instance, what if we added another print statement just below the `for` loop, but without the `tab`? Let's take a look."
   ]
  },
  {
   "cell_type": "code",
   "execution_count": 32,
   "metadata": {
    "collapsed": false,
    "run_control": {
     "frozen": false,
     "read_only": false
    }
   },
   "outputs": [
    {
     "name": "stdout",
     "output_type": "stream",
     "text": [
      "1\n",
      "alice\n",
      "2\n",
      "alice\n",
      "3\n",
      "alice\n",
      "4\n",
      "alice\n",
      "5\n",
      "alice\n",
      "bob\n"
     ]
    }
   ],
   "source": [
    "values = [1,2,3,4,5]\n",
    "for element in values:\n",
    "    print(element)\n",
    "    print('alice')\n",
    "print('bob')"
   ]
  },
  {
   "cell_type": "markdown",
   "metadata": {
    "run_control": {
     "frozen": false,
     "read_only": false
    }
   },
   "source": [
    "So that's a big key to how Python structures it's code. Things that are inside another structure (like a `for` loop) are indented. All the indented parts for a single structure have to go together! You can't do this (which is why we get an error):"
   ]
  },
  {
   "cell_type": "code",
   "execution_count": 33,
   "metadata": {
    "collapsed": false,
    "run_control": {
     "frozen": false,
     "read_only": false
    }
   },
   "outputs": [
    {
     "ename": "IndentationError",
     "evalue": "unexpected indent (<ipython-input-33-07435e37adbd>, line 5)",
     "output_type": "error",
     "traceback": [
      "\u001b[0;36m  File \u001b[0;32m\"<ipython-input-33-07435e37adbd>\"\u001b[0;36m, line \u001b[0;32m5\u001b[0m\n\u001b[0;31m    x = i\u001b[0m\n\u001b[0m    ^\u001b[0m\n\u001b[0;31mIndentationError\u001b[0m\u001b[0;31m:\u001b[0m unexpected indent\n"
     ]
    }
   ],
   "source": [
    "x = 0\n",
    "for i in [1,2,3,4]:\n",
    "    print(i)\n",
    "print(x)\n",
    "    x = i\n",
    "    print(x)"
   ]
  },
  {
   "cell_type": "markdown",
   "metadata": {
    "run_control": {
     "frozen": false,
     "read_only": false
    }
   },
   "source": [
    "But you can do this:"
   ]
  },
  {
   "cell_type": "code",
   "execution_count": 34,
   "metadata": {
    "collapsed": false,
    "run_control": {
     "frozen": false,
     "read_only": false
    }
   },
   "outputs": [
    {
     "name": "stdout",
     "output_type": "stream",
     "text": [
      "1\n",
      "0\n",
      "2\n",
      "1\n",
      "3\n",
      "2\n",
      "4\n",
      "3\n",
      "4\n"
     ]
    }
   ],
   "source": [
    "x = 0\n",
    "for i in [1,2,3,4]:\n",
    "    print(i)\n",
    "    print(x)\n",
    "    x = i\n",
    "print(x)"
   ]
  },
  {
   "cell_type": "markdown",
   "metadata": {
    "run_control": {
     "frozen": false,
     "read_only": false
    }
   },
   "source": [
    "**Exercise 3: ** \n",
    "> Use a `for` loop to compute the sum of `values`, where values is a list of all numbers 1 through 5."
   ]
  },
  {
   "cell_type": "code",
   "execution_count": null,
   "metadata": {
    "collapsed": true,
    "run_control": {
     "frozen": false,
     "read_only": false
    }
   },
   "outputs": [],
   "source": []
  },
  {
   "cell_type": "markdown",
   "metadata": {
    "run_control": {
     "frozen": false,
     "read_only": false
    }
   },
   "source": [
    "One last note about lists for now, you can 'nest' them. Which basically means, you're able to create lists of lists! Let's think about this from a data perspective. Let's say you do 5 measurements, and each measurement has 2 sensors. You could have a list of 5 lists, and each sublist could be the 2 sensor values. Like this:"
   ]
  },
  {
   "cell_type": "code",
   "execution_count": 84,
   "metadata": {
    "collapsed": false,
    "run_control": {
     "frozen": false,
     "read_only": false
    }
   },
   "outputs": [
    {
     "name": "stdout",
     "output_type": "stream",
     "text": [
      "[[1, 0], [2, 3], [5, 7], [1, 2], [5, 3]]\n",
      "Sublist:  [1, 0]\n",
      "Sublist:  [2, 3]\n",
      "Sublist:  [5, 7]\n",
      "Sublist:  [1, 2]\n",
      "Sublist:  [5, 3]\n"
     ]
    }
   ],
   "source": [
    "list_of_lists = [[1,0],[2,3],[5,7],[1,2],[5,3]]\n",
    "print(list_of_lists)\n",
    "for measurement in list_of_lists:\n",
    "    print(\"Sublist: \",measurement)\n",
    "    "
   ]
  },
  {
   "cell_type": "markdown",
   "metadata": {
    "run_control": {
     "frozen": false,
     "read_only": false
    }
   },
   "source": [
    "Speaking of nesting, we can also nest for loops. Let's take this chance to introduce the \"range\" function and comments in python. A comment is something you add to your code that Python doesn't try to run as code. It's denoted like this: \n",
    "\n",
    "```python\n",
    "for blah in blahs:\n",
    "    # This is a comment. Python will skip anything after the #\n",
    "    x = blah # I can even put my comment after a line. It will run the line up to the start of the comment\n",
    "```\n",
    "\n",
    "Okay. So those are comments. What is the `range` function? It's a way to make a list of consecutive values. Let's look below."
   ]
  },
  {
   "cell_type": "code",
   "execution_count": 40,
   "metadata": {
    "collapsed": false,
    "run_control": {
     "frozen": false,
     "read_only": false
    }
   },
   "outputs": [
    {
     "name": "stdout",
     "output_type": "stream",
     "text": [
      "0\n",
      "1\n",
      "2\n",
      "3\n",
      "4\n"
     ]
    }
   ],
   "source": [
    "for x in range(5):\n",
    "    print(x)"
   ]
  },
  {
   "cell_type": "markdown",
   "metadata": {
    "run_control": {
     "frozen": false,
     "read_only": false
    }
   },
   "source": [
    "Now let's use this to create a nested `for` loop."
   ]
  },
  {
   "cell_type": "code",
   "execution_count": 43,
   "metadata": {
    "collapsed": false,
    "run_control": {
     "frozen": false,
     "read_only": false
    }
   },
   "outputs": [
    {
     "name": "stdout",
     "output_type": "stream",
     "text": [
      "i =  0\n",
      "  j =  0\n",
      "  j =  1\n",
      "  j =  2\n",
      "i =  1\n",
      "  j =  0\n",
      "  j =  1\n",
      "  j =  2\n",
      "i =  2\n",
      "  j =  0\n",
      "  j =  1\n",
      "  j =  2\n",
      "i =  3\n",
      "  j =  0\n",
      "  j =  1\n",
      "  j =  2\n",
      "i =  4\n",
      "  j =  0\n",
      "  j =  1\n",
      "  j =  2\n"
     ]
    }
   ],
   "source": [
    "for i in range(5):\n",
    "    print(\"i = \",i)\n",
    "    for j in range(3):\n",
    "        print(\"  j = \",j)"
   ]
  },
  {
   "cell_type": "markdown",
   "metadata": {
    "run_control": {
     "frozen": false,
     "read_only": false
    }
   },
   "source": [
    "The idea here is that the outer `for` loop only repeats when it gets to the bottom of its indented stuff. Since there's a `for` loop inside, it runs all the way through EVERYTIME for the outer `for`. We can see that for every `i` all the `j`'s get a chance to show up."
   ]
  },
  {
   "cell_type": "markdown",
   "metadata": {
    "run_control": {
     "frozen": false,
     "read_only": false
    }
   },
   "source": [
    "## Some other data structures: Sets and Tuples"
   ]
  },
  {
   "cell_type": "markdown",
   "metadata": {
    "run_control": {
     "frozen": false,
     "read_only": false
    }
   },
   "source": [
    "Let's talk about a few more built-in Python structures that are similar to lists. Let's start with sets. "
   ]
  },
  {
   "cell_type": "code",
   "execution_count": 304,
   "metadata": {
    "collapsed": false,
    "run_control": {
     "frozen": false,
     "read_only": false
    }
   },
   "outputs": [
    {
     "name": "stdout",
     "output_type": "stream",
     "text": [
      "{1, 2, 3, 4, 5}\n",
      "\n",
      "\n",
      "1\n",
      "2\n",
      "2\n",
      "2\n",
      "4\n",
      "3\n",
      "5\n",
      "\n",
      "\n",
      "1\n",
      "2\n",
      "3\n",
      "4\n",
      "5\n"
     ]
    }
   ],
   "source": [
    "list_of_numbers = [1,2,2,2,4,3,5]\n",
    "print(set(list_of_numbers))\n",
    "\n",
    "print('\\n') # This just puts a big break in the output. I'm telling python print a '\\n' character, which means 'new line'\n",
    "\n",
    "for i in list_of_numbers:\n",
    "    print(i)\n",
    "\n",
    "print('\\n') \n",
    "\n",
    "for i in set(list_of_numbers):\n",
    "    print(i)"
   ]
  },
  {
   "cell_type": "markdown",
   "metadata": {
    "run_control": {
     "frozen": false,
     "read_only": false
    }
   },
   "source": [
    "So a set has a curly bracket around it, and it doesn't have duplicate values! It also sorted all the valued into ascending order! Otherwise, it behaves very similarly to a list in most ways. One **BIG** difference is that sets are what we call 'immutable,' meaning you can't go in and change values on the fly like you can in a list. As an example, let's try changing an element in both a list and a set (we should see an error from the set): "
   ]
  },
  {
   "cell_type": "code",
   "execution_count": 305,
   "metadata": {
    "collapsed": false,
    "run_control": {
     "frozen": false,
     "read_only": false
    }
   },
   "outputs": [
    {
     "name": "stdout",
     "output_type": "stream",
     "text": [
      "<class 'list'>\n",
      "[7, 2, 3]\n"
     ]
    }
   ],
   "source": [
    "li = [1,2,3]\n",
    "print(type(li))\n",
    "li[0] = 7\n",
    "print(li)"
   ]
  },
  {
   "cell_type": "code",
   "execution_count": 66,
   "metadata": {
    "collapsed": false,
    "run_control": {
     "frozen": false,
     "read_only": false
    }
   },
   "outputs": [
    {
     "name": "stdout",
     "output_type": "stream",
     "text": [
      "<class 'set'>\n"
     ]
    },
    {
     "ename": "TypeError",
     "evalue": "'set' object does not support item assignment",
     "output_type": "error",
     "traceback": [
      "\u001b[0;31m---------------------------------------------------------------------------\u001b[0m",
      "\u001b[0;31mTypeError\u001b[0m                                 Traceback (most recent call last)",
      "\u001b[0;32m<ipython-input-66-bc5c65d548c7>\u001b[0m in \u001b[0;36m<module>\u001b[0;34m()\u001b[0m\n\u001b[1;32m      1\u001b[0m \u001b[0ms\u001b[0m \u001b[0;34m=\u001b[0m \u001b[0mset\u001b[0m\u001b[0;34m(\u001b[0m\u001b[0;34m[\u001b[0m\u001b[0;36m1\u001b[0m\u001b[0;34m,\u001b[0m\u001b[0;36m2\u001b[0m\u001b[0;34m,\u001b[0m\u001b[0;36m3\u001b[0m\u001b[0;34m]\u001b[0m\u001b[0;34m)\u001b[0m\u001b[0;34m\u001b[0m\u001b[0m\n\u001b[1;32m      2\u001b[0m \u001b[0mprint\u001b[0m\u001b[0;34m(\u001b[0m\u001b[0mtype\u001b[0m\u001b[0;34m(\u001b[0m\u001b[0ms\u001b[0m\u001b[0;34m)\u001b[0m\u001b[0;34m)\u001b[0m\u001b[0;34m\u001b[0m\u001b[0m\n\u001b[0;32m----> 3\u001b[0;31m \u001b[0ms\u001b[0m\u001b[0;34m[\u001b[0m\u001b[0;36m0\u001b[0m\u001b[0;34m]\u001b[0m \u001b[0;34m=\u001b[0m \u001b[0;36m7\u001b[0m\u001b[0;34m\u001b[0m\u001b[0m\n\u001b[0m\u001b[1;32m      4\u001b[0m \u001b[0mprint\u001b[0m\u001b[0;34m(\u001b[0m\u001b[0ms\u001b[0m\u001b[0;34m)\u001b[0m\u001b[0;34m\u001b[0m\u001b[0m\n",
      "\u001b[0;31mTypeError\u001b[0m: 'set' object does not support item assignment"
     ]
    }
   ],
   "source": [
    "s = set([1,2,3])\n",
    "print(type(s))\n",
    "s[0] = 7\n",
    "print(s)"
   ]
  },
  {
   "cell_type": "markdown",
   "metadata": {
    "run_control": {
     "frozen": false,
     "read_only": false
    }
   },
   "source": [
    "Sets also don't have indexing! Meaning something like `s[3]` will throw in an error."
   ]
  },
  {
   "cell_type": "code",
   "execution_count": 68,
   "metadata": {
    "collapsed": false,
    "run_control": {
     "frozen": false,
     "read_only": false
    }
   },
   "outputs": [
    {
     "name": "stdout",
     "output_type": "stream",
     "text": [
      "{1, 2, 3}\n"
     ]
    },
    {
     "ename": "TypeError",
     "evalue": "'set' object does not support indexing",
     "output_type": "error",
     "traceback": [
      "\u001b[0;31m---------------------------------------------------------------------------\u001b[0m",
      "\u001b[0;31mTypeError\u001b[0m                                 Traceback (most recent call last)",
      "\u001b[0;32m<ipython-input-68-ef7fb4c7cc04>\u001b[0m in \u001b[0;36m<module>\u001b[0;34m()\u001b[0m\n\u001b[1;32m      1\u001b[0m \u001b[0ms\u001b[0m \u001b[0;34m=\u001b[0m \u001b[0;34m{\u001b[0m\u001b[0;36m1\u001b[0m\u001b[0;34m,\u001b[0m\u001b[0;36m2\u001b[0m\u001b[0;34m,\u001b[0m\u001b[0;36m2\u001b[0m\u001b[0;34m,\u001b[0m\u001b[0;36m3\u001b[0m\u001b[0;34m}\u001b[0m\u001b[0;34m\u001b[0m\u001b[0m\n\u001b[1;32m      2\u001b[0m \u001b[0mprint\u001b[0m\u001b[0;34m(\u001b[0m\u001b[0ms\u001b[0m\u001b[0;34m)\u001b[0m\u001b[0;34m\u001b[0m\u001b[0m\n\u001b[0;32m----> 3\u001b[0;31m \u001b[0ms\u001b[0m\u001b[0;34m[\u001b[0m\u001b[0;36m1\u001b[0m\u001b[0;34m]\u001b[0m\u001b[0;34m\u001b[0m\u001b[0m\n\u001b[0m",
      "\u001b[0;31mTypeError\u001b[0m: 'set' object does not support indexing"
     ]
    }
   ],
   "source": [
    "s = {1,2,2,3}\n",
    "print(s)\n",
    "s[1]"
   ]
  },
  {
   "cell_type": "markdown",
   "metadata": {
    "run_control": {
     "frozen": false,
     "read_only": false
    }
   },
   "source": [
    "Sets can be very handy when you're trying to find only unique values, removing duplicates and the like. However, in-practice they aren't used as much as lists.\n",
    "\n",
    "So what about 'tuples?' Tuples are denoted by parenthesis around a bunch of items. Tuples are just like lists, except they are immutable (like sets). They DO allow for duplicates and indexing, unlike sets, though. Check it out:"
   ]
  },
  {
   "cell_type": "code",
   "execution_count": 64,
   "metadata": {
    "collapsed": false,
    "run_control": {
     "frozen": false,
     "read_only": false
    }
   },
   "outputs": [
    {
     "name": "stdout",
     "output_type": "stream",
     "text": [
      "(1, 2, 3, 4, 5)\n",
      "3\n",
      "<class 'tuple'>\n"
     ]
    }
   ],
   "source": [
    "li = [1,2,3,4,5]\n",
    "tup = tuple(li)\n",
    "print(tup)\n",
    "print(tup[2])\n",
    "print(type(tup))"
   ]
  },
  {
   "cell_type": "code",
   "execution_count": 58,
   "metadata": {
    "collapsed": false,
    "run_control": {
     "frozen": false,
     "read_only": false
    }
   },
   "outputs": [
    {
     "ename": "TypeError",
     "evalue": "'tuple' object does not support item assignment",
     "output_type": "error",
     "traceback": [
      "\u001b[0;31m---------------------------------------------------------------------------\u001b[0m",
      "\u001b[0;31mTypeError\u001b[0m                                 Traceback (most recent call last)",
      "\u001b[0;32m<ipython-input-58-bac9cd458040>\u001b[0m in \u001b[0;36m<module>\u001b[0;34m()\u001b[0m\n\u001b[0;32m----> 1\u001b[0;31m \u001b[0mtup\u001b[0m\u001b[0;34m[\u001b[0m\u001b[0;36m0\u001b[0m\u001b[0;34m]\u001b[0m \u001b[0;34m=\u001b[0m \u001b[0;36m5\u001b[0m\u001b[0;34m\u001b[0m\u001b[0m\n\u001b[0m",
      "\u001b[0;31mTypeError\u001b[0m: 'tuple' object does not support item assignment"
     ]
    }
   ],
   "source": [
    "tup[0] = 5"
   ]
  },
  {
   "cell_type": "markdown",
   "metadata": {
    "run_control": {
     "frozen": false,
     "read_only": false
    }
   },
   "source": [
    "Tuples are great things when you have data that you don't want to ever be changed. For instance, if we were reading our sensor data like above and we never wanted to lose the correlation between sensor 1 and sensor 2, we might cast (meaning: convert the data) into a tuple before we do any manipulation. That way, we always have sensor 1 and 2 together for each measurement, unchanged."
   ]
  },
  {
   "cell_type": "markdown",
   "metadata": {
    "run_control": {
     "frozen": false,
     "read_only": false
    }
   },
   "source": [
    "** Exercise 4: **\n",
    "> Given the list [1,4,4,8,9,3,2,7,5,5,5,5,5], get me a tuple that contains only the unique values in the list, ordered from low to high."
   ]
  },
  {
   "cell_type": "markdown",
   "metadata": {
    "run_control": {
     "frozen": false,
     "read_only": false
    }
   },
   "source": [
    "## A few last notes about lists, indexing, sets, and tuples before we move on to dictionaries"
   ]
  },
  {
   "cell_type": "markdown",
   "metadata": {
    "run_control": {
     "frozen": false,
     "read_only": false
    }
   },
   "source": [
    "There are a few really useful things in Python we haven't covered yet. One of them is the length (`len()`) function. Let's see an example:"
   ]
  },
  {
   "cell_type": "code",
   "execution_count": 59,
   "metadata": {
    "collapsed": false,
    "run_control": {
     "frozen": false,
     "read_only": false
    }
   },
   "outputs": [
    {
     "name": "stdout",
     "output_type": "stream",
     "text": [
      "4\n"
     ]
    }
   ],
   "source": [
    "print(len([1,3,4,7]))"
   ]
  },
  {
   "cell_type": "markdown",
   "metadata": {
    "run_control": {
     "frozen": false,
     "read_only": false
    }
   },
   "source": [
    "This prints the number of elements in a list! This means if we have a huge dataset where we're not sure how big it is, we can just look up the `len()` and we can find out.\n",
    "\n",
    "There are also interesting things about indexing that we should check out. For instance, what if we want to get the last element but we don't know how long the list is? We could find out the length and then do it that way... _OR_ we could use the power of Python's indexing. Check this out:"
   ]
  },
  {
   "cell_type": "code",
   "execution_count": 307,
   "metadata": {
    "collapsed": false,
    "run_control": {
     "frozen": false,
     "read_only": false
    }
   },
   "outputs": [
    {
     "name": "stdout",
     "output_type": "stream",
     "text": [
      "9\n",
      "9\n",
      "8\n"
     ]
    }
   ],
   "source": [
    "li = [1,2,3,4,5,6,7,8,9]\n",
    "print(li[len(li)-1]) # this is a silly way to do it, but it works\n",
    "print(li[-1]) # much better\n",
    "print(li[-2])"
   ]
  },
  {
   "cell_type": "markdown",
   "metadata": {
    "run_control": {
     "frozen": false,
     "read_only": false
    }
   },
   "source": [
    "What if we want to get a sub-section of the list? We can also do that with indexing!"
   ]
  },
  {
   "cell_type": "code",
   "execution_count": 72,
   "metadata": {
    "collapsed": false,
    "run_control": {
     "frozen": false,
     "read_only": false
    }
   },
   "outputs": [
    {
     "name": "stdout",
     "output_type": "stream",
     "text": [
      "[3, 4, 5]\n"
     ]
    }
   ],
   "source": [
    "print(li[2:5]) # remember, Python starts with element index = 0, so index 2 is actually the third element in the list"
   ]
  },
  {
   "cell_type": "markdown",
   "metadata": {
    "run_control": {
     "frozen": false,
     "read_only": false
    }
   },
   "source": [
    "There's also some special notation that tell's Python, 'hey, just start at the beginning and go to this index' or 'hey, start at this index and go to the end.'"
   ]
  },
  {
   "cell_type": "code",
   "execution_count": 74,
   "metadata": {
    "collapsed": false,
    "run_control": {
     "frozen": false,
     "read_only": false
    }
   },
   "outputs": [
    {
     "name": "stdout",
     "output_type": "stream",
     "text": [
      "[1, 2]\n",
      "[6, 7, 8, 9]\n"
     ]
    }
   ],
   "source": [
    "print(li[:2]) # The beginning of this section is 0 since there's no starting number\n",
    "print(li[5:]) # The end of this section is the last element, since there's no closing number"
   ]
  },
  {
   "cell_type": "code",
   "execution_count": 80,
   "metadata": {
    "collapsed": false,
    "run_control": {
     "frozen": false,
     "read_only": false
    }
   },
   "outputs": [
    {
     "name": "stdout",
     "output_type": "stream",
     "text": [
      "[5, 6, 7, 8, 9]\n"
     ]
    }
   ],
   "source": [
    "# we can also do reverse sections!\n",
    "print(li[-5:]) # this gets the last 5 elements!"
   ]
  },
  {
   "cell_type": "markdown",
   "metadata": {
    "run_control": {
     "frozen": false,
     "read_only": false
    }
   },
   "source": [
    "**Exercise 5: **\n",
    "> Given the list [1,2,3,4,5,6,7,8,9,0,1,2,3,4,5,6,7,8,9], print the last 3 values, the first 9 values, and the values at indexes 7-10"
   ]
  },
  {
   "cell_type": "code",
   "execution_count": null,
   "metadata": {
    "collapsed": true,
    "run_control": {
     "frozen": false,
     "read_only": false
    }
   },
   "outputs": [],
   "source": []
  },
  {
   "cell_type": "markdown",
   "metadata": {
    "run_control": {
     "frozen": false,
     "read_only": false
    }
   },
   "source": [
    "## Dictionaries - A complement to lists"
   ]
  },
  {
   "cell_type": "markdown",
   "metadata": {
    "run_control": {
     "frozen": false,
     "read_only": false
    }
   },
   "source": [
    "Dictionaries are a handy way to store things when you want to be able to look them up by a name and the order of storage doesn't matter. Let's take a look at an example of a dictionary. Dictionaries are also denoted by curly brackets, but we'll see they have a different internal structure."
   ]
  },
  {
   "cell_type": "code",
   "execution_count": 86,
   "metadata": {
    "collapsed": false,
    "run_control": {
     "frozen": false,
     "read_only": false
    }
   },
   "outputs": [
    {
     "name": "stdout",
     "output_type": "stream",
     "text": [
      "1\n"
     ]
    }
   ],
   "source": [
    "dictionary = {'Alex': 1, \"Ron\": [2,3,4,5]}\n",
    "print(dictionary['Alex'])"
   ]
  },
  {
   "cell_type": "code",
   "execution_count": 87,
   "metadata": {
    "collapsed": false,
    "run_control": {
     "frozen": false,
     "read_only": false
    }
   },
   "outputs": [
    {
     "name": "stdout",
     "output_type": "stream",
     "text": [
      "[2, 3, 4, 5]\n"
     ]
    }
   ],
   "source": [
    "print(dictionary['Ron'])"
   ]
  },
  {
   "cell_type": "markdown",
   "metadata": {
    "run_control": {
     "frozen": false,
     "read_only": false
    }
   },
   "source": [
    "Right away, you can see that dictionaries aren't storing indexes... they're storing `keys`. These keys are how we look things up in a dictionary... and while the traditional example is to use a string as the key, we don't have to. We can also do something like:"
   ]
  },
  {
   "cell_type": "code",
   "execution_count": 89,
   "metadata": {
    "collapsed": false,
    "run_control": {
     "frozen": false,
     "read_only": false
    }
   },
   "outputs": [
    {
     "name": "stdout",
     "output_type": "stream",
     "text": [
      "[2, 3, 4, 5]\n",
      "[11, 12, 13]\n"
     ]
    }
   ],
   "source": [
    "dict2 = {1: [2,3,4,5], 2:[11,12,13]}\n",
    "print(dict2[1])\n",
    "print(dict2[2])"
   ]
  },
  {
   "cell_type": "markdown",
   "metadata": {
    "run_control": {
     "frozen": false,
     "read_only": false
    }
   },
   "source": [
    "Dictionary look-ups are super fast compared to lists in many cases. Thus, they can be quite useful in many circumstances. However, dictionaries don't maintain order... so it's very important not to rely on ordering when using dictionaries. Dictionaries can also have sub-dictionaries. For instance, let's look at how we might store information about some baseball players."
   ]
  },
  {
   "cell_type": "code",
   "execution_count": 297,
   "metadata": {
    "collapsed": false,
    "run_control": {
     "frozen": false,
     "read_only": false
    }
   },
   "outputs": [
    {
     "name": "stdout",
     "output_type": "stream",
     "text": [
      "{1914: ['Red Sox', 5, 10, 0], 1915: ['Red Sox', 43, 104, 4]}\n"
     ]
    }
   ],
   "source": [
    "# Let's assume a format like [Team, Games, Plate Apperance, Home Runs]\n",
    "career_stats = {'babe_ruth': {1914: [\"Red Sox\",5,10,0], 1915:['Red Sox', 43, 104, 4]},\n",
    "                'gavvy_cravath': {1914: ['Phillies',149,604,14]}} # Yes, that's a real baseball player's name\n",
    "print(career_stats['babe_ruth'])"
   ]
  },
  {
   "cell_type": "code",
   "execution_count": 298,
   "metadata": {
    "collapsed": false,
    "run_control": {
     "frozen": false,
     "read_only": false
    }
   },
   "outputs": [
    {
     "name": "stdout",
     "output_type": "stream",
     "text": [
      "['Phillies', 149, 604, 14]\n"
     ]
    }
   ],
   "source": [
    "print(career_stats['gavvy_cravath'][1914])"
   ]
  },
  {
   "cell_type": "code",
   "execution_count": 300,
   "metadata": {
    "collapsed": false,
    "run_control": {
     "frozen": false,
     "read_only": false
    }
   },
   "outputs": [
    {
     "name": "stdout",
     "output_type": "stream",
     "text": [
      "1914\n",
      "1915\n",
      "1914 ['Red Sox', 5, 10, 0]\n",
      "1915 ['Red Sox', 43, 104, 4]\n"
     ]
    }
   ],
   "source": [
    "for key in career_stats['babe_ruth'].keys():\n",
    "    print(key)\n",
    "    \n",
    "for key, value in career_stats['babe_ruth'].items():\n",
    "    print(key, value)"
   ]
  },
  {
   "cell_type": "markdown",
   "metadata": {
    "run_control": {
     "frozen": false,
     "read_only": false
    }
   },
   "source": [
    "## If statements - making decisions with variables"
   ]
  },
  {
   "cell_type": "markdown",
   "metadata": {
    "run_control": {
     "frozen": false,
     "read_only": false
    }
   },
   "source": [
    "If statements are a ubiquitous part of pretty much all programming languages. We often want to treat things differently based on whether a value is big or small... true or false, etc. So let's see how this works in Python."
   ]
  },
  {
   "cell_type": "code",
   "execution_count": 308,
   "metadata": {
    "collapsed": false,
    "run_control": {
     "frozen": false,
     "read_only": false
    }
   },
   "outputs": [
    {
     "name": "stdout",
     "output_type": "stream",
     "text": [
      "Fight the coffee-archy, comrade.\n"
     ]
    }
   ],
   "source": [
    "do_you_like_coffee = False\n",
    "\n",
    "if do_you_like_coffee: # This by default is asking if it's true. The same as: `if do_you_like_coffee == True`\n",
    "    print(\"I'm sorry you make bad choices.\")\n",
    "else:\n",
    "    print(\"Fight the coffee-archy, comrade.\")"
   ]
  },
  {
   "cell_type": "markdown",
   "metadata": {
    "run_control": {
     "frozen": false,
     "read_only": false
    }
   },
   "source": [
    "If statements can also work with numbers by checking for greater than, less than, equal to, etc. Let's see."
   ]
  },
  {
   "cell_type": "code",
   "execution_count": 217,
   "metadata": {
    "collapsed": false,
    "run_control": {
     "frozen": false,
     "read_only": false
    }
   },
   "outputs": [
    {
     "name": "stdout",
     "output_type": "stream",
     "text": [
      "Math works\n",
      "x > 7.0\n"
     ]
    }
   ],
   "source": [
    "if 4 > 2.33:\n",
    "    print(\"Math works\")\n",
    "else:\n",
    "    print(\"WHAT HAVE WE DONE\")\n",
    "    \n",
    "x = 7.5\n",
    "if x == 8.0: # we use two equals for comparison, since one equals tells python to set x to that value\n",
    "    print(\"x = 8.0\")\n",
    "elif x > 7.7: # this is an else-if statement. It allows us to do multiple checks in one if setup\n",
    "    print(\"x > 7.7\")\n",
    "elif x > 7.0:\n",
    "    print(\"x > 7.0\")\n",
    "else:\n",
    "    print(\"x <= 7.0\")"
   ]
  },
  {
   "cell_type": "markdown",
   "metadata": {
    "run_control": {
     "frozen": false,
     "read_only": false
    }
   },
   "source": [
    "We can also do type checking with if statements. For instance, we want to throw an error if we try to add 2 to a string. Let's try that:"
   ]
  },
  {
   "cell_type": "code",
   "execution_count": 230,
   "metadata": {
    "collapsed": false,
    "run_control": {
     "frozen": false,
     "read_only": false
    }
   },
   "outputs": [
    {
     "name": "stdout",
     "output_type": "stream",
     "text": [
      "ERROR: NOT AN INTEGER OR FLOAT\n"
     ]
    }
   ],
   "source": [
    "user_input = 'bob'\n",
    "\n",
    "if type(user_input) == type(1) or type(user_input) == type(1.5):\n",
    "    print(user_input+2)\n",
    "else:\n",
    "    print(\"ERROR: NOT AN INTEGER OR FLOAT\")"
   ]
  },
  {
   "cell_type": "markdown",
   "metadata": {
    "run_control": {
     "frozen": false,
     "read_only": false
    }
   },
   "source": [
    "If statements are super handy... but luckily for us there isn't much more to them. It's always asking true-false questions, then modifying the codes behavior based on that answer. We can chain together things with `and` and `or` as shown above; but the logic side of how and when `and's` and `or's` should be used is best saved for another time. "
   ]
  },
  {
   "cell_type": "markdown",
   "metadata": {
    "run_control": {
     "frozen": false,
     "read_only": false
    }
   },
   "source": [
    "# Functions - How we SHOULD reuse code"
   ]
  },
  {
   "cell_type": "markdown",
   "metadata": {
    "run_control": {
     "frozen": false,
     "read_only": false
    }
   },
   "source": [
    "One of the beauties of Python is that it allows for function building. What is a function? Let's demonstrate with a simple example. Let's imagine we often want to compute some mathematical function on our variables. For instance, let's say we often want to get the square of some number. We could of course do this with Python in-line, but we could also make a block of code that does that. "
   ]
  },
  {
   "cell_type": "code",
   "execution_count": 100,
   "metadata": {
    "collapsed": false,
    "run_control": {
     "frozen": false,
     "read_only": false
    }
   },
   "outputs": [
    {
     "name": "stdout",
     "output_type": "stream",
     "text": [
      "4\n"
     ]
    }
   ],
   "source": [
    "def square(x):\n",
    "    return x*x\n",
    "\n",
    "x2 = square(2)\n",
    "print(x2)"
   ]
  },
  {
   "cell_type": "markdown",
   "metadata": {
    "run_control": {
     "frozen": false,
     "read_only": false
    }
   },
   "source": [
    "This is a bit of a silly example, but it demonstrates some important concepts. First, we've defined a function with `def NAME_OF_FUNCTION()`. This means we can control how our functions are named, which means we can make our code easy to read. If we name our functions well, our code can become instantly interpretable. Next, we've demonstrated that we can send information between functions and our main code. For instance, here we told the function, \"you should expect an input, and I want you to call it `x`. If I'm still inside this function and say \"hey, what is x?\" I want you to tell me the number that the user put into the function call.\" Finally, we see that Python continues to use indentation as a marker for being inside a function. We also have a `return` which means that we can send information back to the main code.\n",
    "\n",
    "Let's look at what happens when I call print inside the function and don't have a return."
   ]
  },
  {
   "cell_type": "code",
   "execution_count": 101,
   "metadata": {
    "collapsed": false,
    "run_control": {
     "frozen": false,
     "read_only": false
    }
   },
   "outputs": [
    {
     "name": "stdout",
     "output_type": "stream",
     "text": [
      "16\n"
     ]
    }
   ],
   "source": [
    "def square_then_print(x):\n",
    "    y = x*x\n",
    "    print(y)\n",
    "    \n",
    "square_then_print(4)"
   ]
  },
  {
   "cell_type": "markdown",
   "metadata": {
    "run_control": {
     "frozen": false,
     "read_only": false
    }
   },
   "source": [
    "So it's also possible to not have a return in Python. Can we send variables to functions? Yep."
   ]
  },
  {
   "cell_type": "code",
   "execution_count": 309,
   "metadata": {
    "collapsed": false,
    "run_control": {
     "frozen": false,
     "read_only": false
    }
   },
   "outputs": [
    {
     "name": "stdout",
     "output_type": "stream",
     "text": [
      "1\n"
     ]
    }
   ],
   "source": [
    "def add_one_to_var(x):\n",
    "    x += 1\n",
    "    return x\n",
    "\n",
    "z = 0\n",
    "z_plus_one = add_one_to_var(z)\n",
    "print(z_plus_one)"
   ]
  },
  {
   "cell_type": "markdown",
   "metadata": {
    "run_control": {
     "frozen": false,
     "read_only": false
    }
   },
   "source": [
    "**Exercise 6:**\n",
    "\n",
    "> Write a function that takes in a number and returns the number cubed plus 7."
   ]
  },
  {
   "cell_type": "code",
   "execution_count": null,
   "metadata": {
    "collapsed": true,
    "run_control": {
     "frozen": false,
     "read_only": false
    }
   },
   "outputs": [],
   "source": []
  },
  {
   "cell_type": "markdown",
   "metadata": {
    "run_control": {
     "frozen": false,
     "read_only": false
    }
   },
   "source": [
    "What about lists, can we send lists to functions? Absolutely."
   ]
  },
  {
   "cell_type": "code",
   "execution_count": 108,
   "metadata": {
    "collapsed": false,
    "run_control": {
     "frozen": false,
     "read_only": false
    }
   },
   "outputs": [
    {
     "name": "stdout",
     "output_type": "stream",
     "text": [
      "1\n",
      "2\n",
      "3\n",
      "4\n"
     ]
    }
   ],
   "source": [
    "def print_list(li):\n",
    "    for el in li:\n",
    "        print(el)\n",
    "        \n",
    "print_list([1,2,3,4])"
   ]
  },
  {
   "cell_type": "markdown",
   "metadata": {
    "run_control": {
     "frozen": false,
     "read_only": false
    }
   },
   "source": [
    "**Exercise 7:**\n",
    "\n",
    "> Write a function that takes a list, set, or tuple as input and computes the sum of all the elements"
   ]
  },
  {
   "cell_type": "code",
   "execution_count": null,
   "metadata": {
    "collapsed": true,
    "run_control": {
     "frozen": false,
     "read_only": false
    }
   },
   "outputs": [],
   "source": []
  },
  {
   "cell_type": "markdown",
   "metadata": {
    "run_control": {
     "frozen": false,
     "read_only": false
    }
   },
   "source": [
    "## Key Take-Aways about Functions\n",
    "\n",
    "Functions are a HUGE part of programming well. There are some key things to remember about functions:\n",
    "\n",
    "* If you are ever re-using code, put it into a function. Functions are there so you shouldn't ever copy-paste code. It's good code design to use functions.\n",
    "* Name your functions well! If I have to read your code later a function called `function2()` is not easy to understand, a function called `sum_of_list()` is!\n",
    "* Use your arguments well (arguments are the things inside the parenthesis). If you need to have arguments, name your arguments well. We didn't do a good job of that here since they are very simple examples. Good variable naming is VITAL for bigger projects.\n",
    "* Functions will save you time. It's a pain to think about functions at the beginning, invest the time as they are wonder-workers when done well."
   ]
  },
  {
   "cell_type": "markdown",
   "metadata": {
    "run_control": {
     "frozen": false,
     "read_only": false
    }
   },
   "source": [
    "# Imports - How we can use Python's huge library of pre-made modules"
   ]
  },
  {
   "cell_type": "markdown",
   "metadata": {
    "run_control": {
     "frozen": false,
     "read_only": false
    }
   },
   "source": [
    "Importing things is how we can gain access to the best that Python has to offer in terms of pre-made modules. For instance, we're going to want to use random numbers in a later example. So let's learn how to import the 'random' module. In this case, I know that there's a module called `random` that allows a user to generate and use random numbers in their code. If we tell python `import random`, it will give us access to all the functions that someone else has programmed into the `random module` to generate the random numbers. Once imported, if we want to use one of `random`'s functions, we have to tell python \"check random for this function\" which we do by saying `random.FUNCTION_NAME()`."
   ]
  },
  {
   "cell_type": "code",
   "execution_count": 113,
   "metadata": {
    "collapsed": false,
    "run_control": {
     "frozen": false,
     "read_only": false
    }
   },
   "outputs": [
    {
     "name": "stdout",
     "output_type": "stream",
     "text": [
      "3\n"
     ]
    }
   ],
   "source": [
    "import random\n",
    "print(random.randint(0,10))"
   ]
  },
  {
   "cell_type": "markdown",
   "metadata": {
    "run_control": {
     "frozen": false,
     "read_only": false
    }
   },
   "source": [
    "Importing it also makes `random` accessible in other cells... as long this instance of the python notebook is open, once we import we can use `random` in any other cells. We don't have to re-import it every time."
   ]
  },
  {
   "cell_type": "code",
   "execution_count": 116,
   "metadata": {
    "collapsed": false,
    "run_control": {
     "frozen": false,
     "read_only": false
    }
   },
   "outputs": [
    {
     "name": "stdout",
     "output_type": "stream",
     "text": [
      "9\n",
      "8\n",
      "9\n",
      "7\n"
     ]
    }
   ],
   "source": [
    "for i in range(4):\n",
    "    print(random.randint(5,10))"
   ]
  },
  {
   "cell_type": "markdown",
   "metadata": {
    "run_control": {
     "frozen": false,
     "read_only": false
    }
   },
   "source": [
    "**Exercise 8:**\n",
    "\n",
    "> Generate 500 random integers between 0-10, store them in a list, compute the average value of the random integers. Is it the value you expect? Run it a few times, does it change? What happens if you make it 5000 random numbers?"
   ]
  },
  {
   "cell_type": "markdown",
   "metadata": {
    "run_control": {
     "frozen": false,
     "read_only": false
    }
   },
   "source": [
    "We also are going to want to use a library called `numpy` which is an excellent library for mathematical manipulations. It's VERY fast and has the ability to make slightly more efficient lists (called arrays) and to do more complex mathematical things with those arrays. We can also give `numpy` a special name so we don't always have to type `numpy`."
   ]
  },
  {
   "cell_type": "code",
   "execution_count": 119,
   "metadata": {
    "collapsed": false,
    "run_control": {
     "frozen": false,
     "read_only": false
    }
   },
   "outputs": [
    {
     "name": "stdout",
     "output_type": "stream",
     "text": [
      "40\n"
     ]
    }
   ],
   "source": [
    "import numpy as np\n",
    "\n",
    "vector1 = np.array([1,2,3,4])\n",
    "vector2 = np.array([2,3,4,5])\n",
    "print(np.dot(vector1,vector2)) \n",
    "# This is the dot product. If you don't understand it, no worries.\n",
    "# It's just an example of the cool math numpy has built in."
   ]
  },
  {
   "cell_type": "markdown",
   "metadata": {
    "run_control": {
     "frozen": false,
     "read_only": false
    }
   },
   "source": [
    "Numpy is also **REALLY** handy for doing matrix math, since it knows all about matrices and even as a np.matrix() object. Numpy also has a random number generator as well. It's a really great library that really deserves its own lecture."
   ]
  },
  {
   "cell_type": "markdown",
   "metadata": {
    "run_control": {
     "frozen": false,
     "read_only": false
    }
   },
   "source": [
    "# Plotting - now we're getting somewhere cool"
   ]
  },
  {
   "cell_type": "markdown",
   "metadata": {
    "run_control": {
     "frozen": false,
     "read_only": false
    }
   },
   "source": [
    "One of the main Python libraries used for scientific computing is `matplotlib` which is a module designed around making plotting super easy. Let's look through some simple examples to whet your appetite."
   ]
  },
  {
   "cell_type": "code",
   "execution_count": 310,
   "metadata": {
    "collapsed": false,
    "run_control": {
     "frozen": false,
     "read_only": false
    }
   },
   "outputs": [
    {
     "data": {
      "text/plain": [
       "<matplotlib.text.Text at 0x116102240>"
      ]
     },
     "execution_count": 310,
     "metadata": {},
     "output_type": "execute_result"
    },
    {
     "data": {
      "image/png": "[encoded data removed]",
      "text/plain": [
       "<matplotlib.figure.Figure at 0x1123937b8>"
      ]
     },
     "metadata": {},
     "output_type": "display_data"
    }
   ],
   "source": [
    "import matplotlib.pyplot as plt # this is a standard convention when using matplotlib, we name it plt.\n",
    "%matplotlib inline \n",
    "# This is a special command only used in Jupyter Notebooks, it allows plt to draw in the notebook\n",
    "\n",
    "x = range(50) # this makes a list from 0-50\n",
    "y = []\n",
    "\n",
    "for value in x:\n",
    "    y.append(value**2) # This makes a list of x^2 in the SAME order as the x list.\n",
    "\n",
    "plt.plot(x,y) # this reads the two lists and grabs element 0 from x and y, then draws it. Then element 1, then ele...\n",
    "plt.xlabel(\"X\") # LABEL OR DIE\n",
    "plt.ylabel(\"X-squared\")\n",
    "plt.title(\"Just a demo plot, yo\")"
   ]
  },
  {
   "cell_type": "markdown",
   "metadata": {
    "run_control": {
     "frozen": false,
     "read_only": false
    }
   },
   "source": [
    "Now let's make a scatter plot! And this time, let's do it with a random number generator and a function."
   ]
  },
  {
   "cell_type": "code",
   "execution_count": 135,
   "metadata": {
    "collapsed": false,
    "run_control": {
     "frozen": false,
     "read_only": false
    }
   },
   "outputs": [
    {
     "data": {
      "text/plain": [
       "<matplotlib.collections.PathCollection at 0x112e9cef0>"
      ]
     },
     "execution_count": 135,
     "metadata": {},
     "output_type": "execute_result"
    },
    {
     "data": {
      "image/png": "[encoded data removed]",
      "text/plain": [
       "<matplotlib.figure.Figure at 0x112decac8>"
      ]
     },
     "metadata": {},
     "output_type": "display_data"
    }
   ],
   "source": [
    "def get_data_point():\n",
    "    value1 = random.randint(-10,10)\n",
    "    value2 = random.randint(-10,10)\n",
    "    return value1, value2 # Yep, Python can return more than one thing from a function. Check below to see how to handle it\n",
    "\n",
    "x_values = []\n",
    "y_values = []\n",
    "for i in range(250):\n",
    "    x, y = get_data_point() # we have to put two things left of equals, since it returns two things.\n",
    "    x_values.append(x)\n",
    "    y_values.append(y)\n",
    "\n",
    "plt.scatter(x_values,y_values,c='red') "
   ]
  },
  {
   "cell_type": "markdown",
   "metadata": {
    "run_control": {
     "frozen": false,
     "read_only": false
    }
   },
   "source": [
    "BOOM. We also changed the color of the points by telling it to have \"c='red'\" There are hundreds of plotting options in MatPlotLib... but we'll stop there for now and jump to the crowning achievement for today. Calculating Pi using random numbers."
   ]
  },
  {
   "cell_type": "markdown",
   "metadata": {
    "run_control": {
     "frozen": false,
     "read_only": false
    }
   },
   "source": [
    "# Let's SIMULATE some stuff"
   ]
  },
  {
   "cell_type": "markdown",
   "metadata": {
    "run_control": {
     "frozen": false,
     "read_only": false
    }
   },
   "source": [
    "Okay, we need some math background for this. We're going to try to calculate pi using random numbers. How can that work? Well, the idea is that we're use the areas of the circle and square to get this. The area of a circle is A_circle = Pi x radius^2. For a square, the area is A_square = length x width.\n",
    "\n",
    "So if we have the radius be 1, and the length of the squares side be 2, we can have a circle set in a square, like shown below."
   ]
  },
  {
   "cell_type": "code",
   "execution_count": 158,
   "metadata": {
    "collapsed": false,
    "run_control": {
     "frozen": false,
     "read_only": false
    }
   },
   "outputs": [
    {
     "data": {
      "image/png": "[encoded data removed]",
      "text/plain": [
       "<matplotlib.figure.Figure at 0x11368a128>"
      ]
     },
     "metadata": {},
     "output_type": "display_data"
    }
   ],
   "source": [
    "def draw_circle_square():\n",
    "    x_square = [-1,1,1,-1,-1]\n",
    "    y_square = [1,1,-1,-1,1]\n",
    "    plt.plot(x_square,y_square)\n",
    "\n",
    "    x_circle = np.linspace(1,-1,100)\n",
    "    y_circle = []\n",
    "    y_circle_negative = []\n",
    "    for x in x_circle:\n",
    "        y_circle.append(np.sqrt(1-x**2))\n",
    "        y_circle_negative.append(-np.sqrt(1-x**2))\n",
    "\n",
    "    plt.plot(x_circle,y_circle,c='r')\n",
    "    plt.plot(x_circle,y_circle_negative,c='r')\n",
    "\n",
    "    plt.axes().set_aspect('equal') # This is just to square up the plot instead of being a rectangle\n",
    "\n",
    "draw_circle_square()"
   ]
  },
  {
   "cell_type": "markdown",
   "metadata": {
    "run_control": {
     "frozen": false,
     "read_only": false
    }
   },
   "source": [
    "So, if we generate data points and keep track of how many fall inside the circle AND the square, versus just the square, we can get an estimate of their areas. If we then do the area of the circle, divided by the area of the square, we expect it to be:\n",
    "\n",
    "$\\frac{\\pi*1*1}{2*2} = \\frac{\\pi}{4}$\n",
    "\n",
    "We can do this with just a few functions and some of the knowledge we've already gained from today. So, give it a shot. I'll slowly reveal parts of the answer along the way.\n",
    "\n",
    "A hint: You'll need to calculate some distances. The distance from a point to the center of the square/circle is:\n",
    "\n",
    "d = $\\sqrt{x^{2} + y^{2}}$\n"
   ]
  },
  {
   "cell_type": "code",
   "execution_count": 163,
   "metadata": {
    "collapsed": false,
    "run_control": {
     "frozen": false,
     "read_only": false
    }
   },
   "outputs": [
    {
     "data": {
      "text/plain": [
       "<matplotlib.collections.PathCollection at 0x113e27390>"
      ]
     },
     "execution_count": 163,
     "metadata": {},
     "output_type": "execute_result"
    },
    {
     "data": {
      "image/png": "[encoded data removed]",
      "text/plain": [
       "<matplotlib.figure.Figure at 0x113d5fb38>"
      ]
     },
     "metadata": {},
     "output_type": "display_data"
    }
   ],
   "source": [
    "draw_circle_square()\n",
    "example_points_x = [-0.1,0.5,0.75,-.9]\n",
    "example_points_y = [-0.5,0.6,0.8,-0.55]\n",
    "colors = ['r','r','b','b']\n",
    "plt.scatter(example_points_x,example_points_y,c=colors)"
   ]
  },
  {
   "cell_type": "markdown",
   "metadata": {
    "run_control": {
     "frozen": false,
     "read_only": false
    }
   },
   "source": [
    "### Solution without numpy"
   ]
  },
  {
   "cell_type": "code",
   "execution_count": 206,
   "metadata": {
    "collapsed": false,
    "run_control": {
     "frozen": false,
     "read_only": false
    }
   },
   "outputs": [
    {
     "name": "stdout",
     "output_type": "stream",
     "text": [
      "3.1252\n"
     ]
    }
   ],
   "source": [
    "import random\n",
    "def get_data_point():\n",
    "    '''\n",
    "    We're going to generate a value between 0 and 1. We can multiply by 2 and subtract 1 to \n",
    "    get a random number in the range of [-1,1]\n",
    "    '''\n",
    "    x = random.random()*2.-1.\n",
    "    y = random.random()*2.-1.\n",
    "    return [x,y]\n",
    "\n",
    "def get_distance(data_point):\n",
    "    '''\n",
    "    Here we just unpack our data point to x and y coordinates\n",
    "    then calculate the Euclidean distance\n",
    "    '''\n",
    "    x,y = data_point\n",
    "    return np.sqrt(x*x + y*y)\n",
    "\n",
    "def is_in_circle(data_point):\n",
    "    '''\n",
    "    This function takes our data point, finds the distance to the center of the\n",
    "    circle, an checks if it is less than the circle's radius (1). If it is, \n",
    "    it returns true (the point is in the circle), if not, it returns false.\n",
    "    '''\n",
    "    dist = get_distance(data_point)\n",
    "    return dist <= 1.\n",
    "\n",
    "def calculate_pi(num_data_points):\n",
    "    '''\n",
    "    For the number of data points requested (how many random draws to do), generate a data\n",
    "    point and check if it's in the circle, as well as the square. Keep track of how many are\n",
    "    in the circle, then return (circle/square)*4 to estimate pi.\n",
    "    '''\n",
    "    data = []\n",
    "    points_in_circle = 0\n",
    "    for i in range(int(num_data_points)):\n",
    "        data = get_data_point()\n",
    "        if is_in_circle(data):\n",
    "            points_in_circle += 1\n",
    "    return (points_in_circle/num_data_points)*4\n",
    "\n",
    "print(calculate_pi(10**4))"
   ]
  },
  {
   "cell_type": "markdown",
   "metadata": {
    "run_control": {
     "frozen": false,
     "read_only": false
    }
   },
   "source": [
    "Now let's plot the value we calculate for Pi for a bunch of different number of points to see how it goes."
   ]
  },
  {
   "cell_type": "code",
   "execution_count": 302,
   "metadata": {
    "collapsed": false,
    "run_control": {
     "frozen": false,
     "read_only": false
    }
   },
   "outputs": [
    {
     "data": {
      "text/plain": [
       "<matplotlib.text.Text at 0x115f0bc88>"
      ]
     },
     "execution_count": 302,
     "metadata": {},
     "output_type": "execute_result"
    },
    {
     "data": {
      "image/png": "[encoded data removed]",
      "text/plain": [
       "<matplotlib.figure.Figure at 0x115b17fd0>"
      ]
     },
     "metadata": {},
     "output_type": "display_data"
    }
   ],
   "source": [
    "num_points_to_try = np.linspace(100,10000,1000) # this just gives us 1000 points between 1 and 10000\n",
    "pi_vals = []\n",
    "\n",
    "for num_points in num_points_to_try:\n",
    "    pi_vals.append(calculate_pi(num_points))\n",
    "\n",
    "plt.plot(num_points_to_try,pi_vals)\n",
    "plt.xlabel(\"Number of Points Sampled\")\n",
    "plt.ylabel(\"Guessed Value of Pi\")\n",
    "plt.title(\"Estimating Pi with Random Numbers\")"
   ]
  },
  {
   "cell_type": "code",
   "execution_count": 303,
   "metadata": {
    "collapsed": false,
    "run_control": {
     "frozen": false,
     "read_only": false
    }
   },
   "outputs": [
    {
     "data": {
      "text/plain": [
       "[<matplotlib.lines.Line2D at 0x115f564e0>]"
      ]
     },
     "execution_count": 303,
     "metadata": {},
     "output_type": "execute_result"
    },
    {
     "data": {
      "image/png": "[encoded data removed]",
      "text/plain": [
       "<matplotlib.figure.Figure at 0x115f56c50>"
      ]
     },
     "metadata": {},
     "output_type": "display_data"
    }
   ],
   "source": [
    "errors = [estimate - 3.14159265 for estimate in pi_vals]\n",
    "\n",
    "plt.plot(num_points_to_try,errors)\n",
    "plt.xlabel(\"Number of Points Sampled\")\n",
    "plt.ylabel(\"Error on estimate\")\n",
    "plt.title(\"Estimating Pi with Random Numbers\")\n",
    "plt.plot([-10,10100],[0,0],'--r',lw=2) # just adding a line to show where 0 is."
   ]
  },
  {
   "cell_type": "markdown",
   "metadata": {
    "run_control": {
     "frozen": false,
     "read_only": false
    }
   },
   "source": [
    "### And now with numpy"
   ]
  },
  {
   "cell_type": "code",
   "execution_count": 278,
   "metadata": {
    "collapsed": false,
    "run_control": {
     "frozen": false,
     "read_only": false
    }
   },
   "outputs": [
    {
     "data": {
      "text/plain": [
       "3.1516"
      ]
     },
     "execution_count": 278,
     "metadata": {},
     "output_type": "execute_result"
    }
   ],
   "source": [
    "import numpy as np\n",
    "\n",
    "def calculate_pi_numpy(num_data_points):\n",
    "    data = np.random.rand(int(num_data_points),2)*2. - 1. # This generates all the random numbers.\n",
    "                                                          # Numpy creates an array on the fly to store them.\n",
    "\n",
    "    in_circle = 0\n",
    "    for point in data:\n",
    "        vecx, vecy = point.T # Just grabbing the X and Y components here\n",
    "        if np.hypot(vecx,vecy) <= 1: # numpy has a really fast way to calculate the hypotenuse\n",
    "            in_circle += 1\n",
    "    return (in_circle/num_data_points)*4\n",
    "\n",
    "calculate_pi_numpy(10000)"
   ]
  },
  {
   "cell_type": "code",
   "execution_count": 280,
   "metadata": {
    "collapsed": false,
    "run_control": {
     "frozen": false,
     "read_only": false
    }
   },
   "outputs": [
    {
     "data": {
      "text/plain": [
       "<matplotlib.text.Text at 0x1145b6f98>"
      ]
     },
     "execution_count": 280,
     "metadata": {},
     "output_type": "execute_result"
    },
    {
     "data": {
      "image/png": "[encoded data removed]",
      "text/plain": [
       "<matplotlib.figure.Figure at 0x1129a1320>"
      ]
     },
     "metadata": {},
     "output_type": "display_data"
    }
   ],
   "source": [
    "num_points_to_try = np.linspace(1,10000,1000) # this just gives us 1000 points between 1 and 10000\n",
    "pi_vals = []\n",
    "\n",
    "for num_points in num_points_to_try:\n",
    "    pi_vals.append(calculate_pi_numpy(num_points))\n",
    "\n",
    "plt.plot(num_points_to_try,pi_vals,'r')\n",
    "plt.xlabel(\"Number of Points Sampled\")\n",
    "plt.ylabel(\"Guessed Value of Pi\")\n",
    "plt.title(\"Estimating Pi with Random Numbers\")"
   ]
  },
  {
   "cell_type": "markdown",
   "metadata": {
    "run_control": {
     "frozen": false,
     "read_only": false
    }
   },
   "source": [
    "### Sidenote: Why does this work? \n",
    "\n",
    "Because with enough points, we actually can fill in the circle and square. So we are literally learning about the areas by randomness. This is known as a Monte Carlo technique (not important to know, but you might want to read more later). Check it out."
   ]
  },
  {
   "cell_type": "code",
   "execution_count": 301,
   "metadata": {
    "collapsed": false,
    "run_control": {
     "frozen": false,
     "read_only": false
    }
   },
   "outputs": [
    {
     "data": {
      "text/plain": [
       "<matplotlib.text.Text at 0x115df1940>"
      ]
     },
     "execution_count": 301,
     "metadata": {},
     "output_type": "execute_result"
    },
    {
     "data": {
      "image/png": "[encoded data removed]",
      "text/plain": [
       "<matplotlib.figure.Figure at 0x115bede48>"
      ]
     },
     "metadata": {},
     "output_type": "display_data"
    }
   ],
   "source": [
    "draw_circle_square()\n",
    "\n",
    "x_vals = []\n",
    "y_vals = []\n",
    "colors = []\n",
    "for i in range(3000):\n",
    "    data = get_data_point()\n",
    "    \n",
    "    x_vals.append(data[0])\n",
    "    y_vals.append(data[1])\n",
    "    if is_in_circle(data):\n",
    "        colors.append('r')\n",
    "    else:\n",
    "        colors.append('b')\n",
    "plt.scatter(x_vals,y_vals,c=colors,alpha=0.5,s=14)\n",
    "plt.xlabel(\"X\")\n",
    "plt.ylabel(\"Y\")"
   ]
  },
  {
   "cell_type": "markdown",
   "metadata": {
    "run_control": {
     "frozen": false,
     "read_only": false
    }
   },
   "source": [
    "# Where to go from here?"
   ]
  },
  {
   "cell_type": "markdown",
   "metadata": {
    "run_control": {
     "frozen": false,
     "read_only": false
    }
   },
   "source": [
    "This has been a whirlwind of information that I hope has been useful. It's just the tip of the iceberg. Here are some other great resources:\n",
    "\n",
    "* https://learnpythonthehardway.org/ (this costs money)\n",
    "* http://codingbat.com/python (Lot's of simple test problems to play with)\n",
    "* http://learnpython.org/ (Excellent interactive 'course')\n",
    "* https://py.checkio.org/ (A series of Python tasks in a game framework; I've never played it but know people who have and learned a ton. Requires Log-in.)\n",
    "\n",
    "At the end of the day, finding cool ideas and trying to code them up is the best place to go. Fight with your code, love your code, passionately defend your code. It's all part of the fun. Take a look around and see what other people are doing and see if you can do it (better). GitHub is a great resource for finding cool projects and great coding examples. At the risk of self-promotion, let's say you want to learn how to work with microphones... you can look at my github for an example here: https://github.com/ZWMiller/PythonProjects/blob/master/streamAudio/streamAudio.py That code will never win an award, but if you were trying to figure out how to begin working with microphones in Python, it's a great place to start. There are tons of people doing _WAY_ cooler things than I am, so find them on GitHub, look at their code, figure out what they're doing... it's a great resource.\n",
    "\n",
    "** Best of luck. Feel free to ping me with questions! **"
   ]
  },
  {
   "cell_type": "markdown",
   "metadata": {
    "run_control": {
     "frozen": false,
     "read_only": false
    }
   },
   "source": [
    "# Solutions!"
   ]
  },
  {
   "cell_type": "markdown",
   "metadata": {
    "run_control": {
     "frozen": false,
     "read_only": false
    }
   },
   "source": [
    "**Exercise 1:**"
   ]
  },
  {
   "cell_type": "code",
   "execution_count": 20,
   "metadata": {
    "collapsed": false,
    "run_control": {
     "frozen": false,
     "read_only": false
    }
   },
   "outputs": [
    {
     "name": "stdout",
     "output_type": "stream",
     "text": [
      "['hello', 'world']\n"
     ]
    }
   ],
   "source": [
    "hello_world_list = ['hello','world']\n",
    "print(hello_world_list)"
   ]
  },
  {
   "cell_type": "markdown",
   "metadata": {
    "run_control": {
     "frozen": false,
     "read_only": false
    }
   },
   "source": [
    "**Exercise 2: **"
   ]
  },
  {
   "cell_type": "code",
   "execution_count": 28,
   "metadata": {
    "collapsed": false,
    "run_control": {
     "frozen": false,
     "read_only": false
    }
   },
   "outputs": [
    {
     "name": "stdout",
     "output_type": "stream",
     "text": [
      "The Sum is:  15\n"
     ]
    }
   ],
   "source": [
    "values = [1,2,3,4,5]\n",
    "sm = values[0]+values[1]+values[2]+values[3]+values[4]\n",
    "print(\"The Sum is: \",sm)"
   ]
  },
  {
   "cell_type": "markdown",
   "metadata": {
    "run_control": {
     "frozen": false,
     "read_only": false
    }
   },
   "source": [
    "**Exercise 3: **"
   ]
  },
  {
   "cell_type": "code",
   "execution_count": 35,
   "metadata": {
    "collapsed": false,
    "run_control": {
     "frozen": false,
     "read_only": false
    }
   },
   "outputs": [
    {
     "name": "stdout",
     "output_type": "stream",
     "text": [
      "15\n",
      "15\n"
     ]
    }
   ],
   "source": [
    "values = [1,2,3,4,5]\n",
    "sm = 0\n",
    "sm2 = 0\n",
    "for val in values:\n",
    "    sm = sm + val\n",
    "    sm2 += val # Note, these are completely equivalent! += just means, add it to the current value on the left side.\n",
    "print(sm)\n",
    "print(sm2)"
   ]
  },
  {
   "cell_type": "markdown",
   "metadata": {
    "run_control": {
     "frozen": false,
     "read_only": false
    }
   },
   "source": [
    "**Exercise 4: **"
   ]
  },
  {
   "cell_type": "code",
   "execution_count": 63,
   "metadata": {
    "collapsed": false,
    "run_control": {
     "frozen": false,
     "read_only": false
    }
   },
   "outputs": [
    {
     "name": "stdout",
     "output_type": "stream",
     "text": [
      "(1, 2, 3, 4, 5, 7, 8, 9)\n"
     ]
    }
   ],
   "source": [
    "li = [1,4,4,8,9,3,2,7,5,5,5,5,5]\n",
    "s = set(li)\n",
    "tup = tuple(s)\n",
    "print(tup)"
   ]
  },
  {
   "cell_type": "markdown",
   "metadata": {
    "run_control": {
     "frozen": false,
     "read_only": false
    }
   },
   "source": [
    "**Exercise 5: **"
   ]
  },
  {
   "cell_type": "code",
   "execution_count": 83,
   "metadata": {
    "collapsed": false,
    "run_control": {
     "frozen": false,
     "read_only": false
    }
   },
   "outputs": [
    {
     "name": "stdout",
     "output_type": "stream",
     "text": [
      "[7, 8, 9]\n",
      "[1, 2, 3, 4, 5, 6, 7, 8, 9]\n",
      "[8, 9, 0]\n"
     ]
    }
   ],
   "source": [
    "li = [1,2,3,4,5,6,7,8,9,0,1,2,3,4,5,6,7,8,9]\n",
    "last_three = li[-3:]\n",
    "print(last_three)\n",
    "\n",
    "first_nine = li[:9]\n",
    "print(first_nine)\n",
    "\n",
    "middle = li[7:10]\n",
    "print(middle)"
   ]
  },
  {
   "cell_type": "markdown",
   "metadata": {
    "run_control": {
     "frozen": false,
     "read_only": false
    }
   },
   "source": [
    "**Exercise 6:**"
   ]
  },
  {
   "cell_type": "code",
   "execution_count": 107,
   "metadata": {
    "collapsed": false,
    "run_control": {
     "frozen": false,
     "read_only": false
    }
   },
   "outputs": [
    {
     "name": "stdout",
     "output_type": "stream",
     "text": [
      "15\n"
     ]
    }
   ],
   "source": [
    "def cube_plus_seven(x):\n",
    "    return x**3+7\n",
    "\n",
    "print(cube_plus_seven(2))"
   ]
  },
  {
   "cell_type": "markdown",
   "metadata": {
    "run_control": {
     "frozen": false,
     "read_only": false
    }
   },
   "source": [
    "**Exercise 7:**"
   ]
  },
  {
   "cell_type": "code",
   "execution_count": 109,
   "metadata": {
    "collapsed": false,
    "run_control": {
     "frozen": false,
     "read_only": false
    }
   },
   "outputs": [
    {
     "name": "stdout",
     "output_type": "stream",
     "text": [
      "15\n"
     ]
    }
   ],
   "source": [
    "def sum_of_list(li):\n",
    "    sm = 0\n",
    "    for el in li:\n",
    "        sm+=el\n",
    "    return sm\n",
    "\n",
    "print(sum_of_list([1,2,3,4,5]))"
   ]
  },
  {
   "cell_type": "markdown",
   "metadata": {
    "run_control": {
     "frozen": false,
     "read_only": false
    }
   },
   "source": [
    "**Exercise 8:**"
   ]
  },
  {
   "cell_type": "code",
   "execution_count": 126,
   "metadata": {
    "collapsed": false,
    "run_control": {
     "frozen": false,
     "read_only": false
    }
   },
   "outputs": [
    {
     "name": "stdout",
     "output_type": "stream",
     "text": [
      "4.9858\n"
     ]
    }
   ],
   "source": [
    "def get_random_number():\n",
    "    return random.randint(0,10)\n",
    "\n",
    "def sum_of_list(li):\n",
    "    sm = 0\n",
    "    for el in li:\n",
    "        sm+=el\n",
    "    return sm\n",
    "\n",
    "numbers = []\n",
    "for i in range(5000):\n",
    "    numbers.append(get_random_number())\n",
    "\n",
    "avg = sum_of_list(numbers)/len(numbers)\n",
    "print(avg)"
   ]
  },
  {
   "cell_type": "code",
   "execution_count": null,
   "metadata": {
    "collapsed": true,
    "run_control": {
     "frozen": false,
     "read_only": false
    }
   },
   "outputs": [],
   "source": []
  }
 ],
 "metadata": {
  "kernelspec": {
   "display_name": "Python 3",
   "language": "python",
   "name": "python3"
  },
  "language_info": {
   "codemirror_mode": {
    "name": "ipython",
    "version": 3
   },
   "file_extension": ".py",
   "mimetype": "text/x-python",
   "name": "python",
   "nbconvert_exporter": "python",
   "pygments_lexer": "ipython3",
   "version": "3.6.1"
  },
  "latex_envs": {
   "LaTeX_envs_menu_present": true,
   "bibliofile": "biblio.bib",
   "cite_by": "apalike",
   "current_citInitial": 1,
   "eqLabelWithNumbers": true,
   "eqNumInitial": 1,
   "hotkeys": {
    "equation": "Ctrl-E",
    "itemize": "Ctrl-I"
   },
   "labels_anchors": false,
   "latex_user_defs": false,
   "report_style_numbering": false,
   "user_envs_cfg": false
  },
  "toc": {
   "colors": {
    "hover_highlight": "#DAA520",
    "running_highlight": "#FF0000",
    "selected_highlight": "#FFD700"
   },
   "moveMenuLeft": true,
   "nav_menu": {
    "height": "354px",
    "width": "252px"
   },
   "navigate_menu": true,
   "number_sections": true,
   "sideBar": true,
   "threshold": 4,
   "toc_cell": false,
   "toc_section_display": "block",
   "toc_window_display": false
  }
 },
 "nbformat": 4,
 "nbformat_minor": 2
}
